{
 "cells": [
  {
   "attachments": {},
   "cell_type": "markdown",
   "metadata": {},
   "source": [
    "# Introduction\n",
    "\n",
    "    Cancer is a complex and devastating disease that affects millions of people worldwide. With advancements in technology and the availability of vast amounts of data, data science techniques have emerged as a promising tool for cancer classification. In this project, we aim to leverage the power of data science to develop a classification model that can accurately predict the presence of cancer based on various input variables.\n",
    "\n",
    "In this cancer classification project using data science, we will address the following points:\n",
    "\n",
    "* Dataset assessment\n",
    "* Dataset cleaning\n",
    "* Dataset testing\n",
    "* Testing and training splits\n",
    "* Random forest classification\n",
    "* Gaussian naive Bayes classification \n",
    "* Model comparison\n",
    "    \n",
    "By combining these different steps, we aim to develop an accurate and reliable cancer classification model that can aid in outcome prediction and informed medical decision-making.."

   ]
  },
  {
   "cell_type": "code",
   "execution_count": 103,
   "metadata": {},
   "outputs": [],
   "source": [
    "import pandas as pd\n",
    "import matplotlib.pyplot as plt\n",
    "from IPython.display import display_html\n",
    "import seaborn as sns\n",
    "\n",
    "%matplotlib inline"
   ]
  },
  {
   "cell_type": "code",
   "execution_count": 104,
   "metadata": {},
   "outputs": [],
   "source": [
    "\n",
    "df = pd.read_csv('dataset/brca.csv', sep=',', encoding='latin-1')"
   ]
  },
  {
   "attachments": {},
   "cell_type": "markdown",
   "metadata": {},
   "source": [
    "## Assessing the dataset\n",
    "\n",
    "##### We will begin with a thorough analysis of the provided dataset. This involves understanding the meaning and characteristics of the variables present, as well as gaining an understanding of the different cancer classes we are seeking to predict."

   ]
  },
  {
   "cell_type": "code",
   "execution_count": 105,
   "metadata": {},
   "outputs": [
    {
     "data": {
      "text/html": [
       "<div>\n",
       "<style scoped>\n",
       "    .dataframe tbody tr th:only-of-type {\n",
       "        vertical-align: middle;\n",
       "    }\n",
       "\n",
       "    .dataframe tbody tr th {\n",
       "        vertical-align: top;\n",
       "    }\n",
       "\n",
       "    .dataframe thead th {\n",
       "        text-align: right;\n",
       "    }\n",
       "</style>\n",
       "<table border=\"1\" class=\"dataframe\">\n",
       "  <thead>\n",
       "    <tr style=\"text-align: right;\">\n",
       "      <th></th>\n",
       "      <th>Unnamed: 0</th>\n",
       "      <th>x.radius_mean</th>\n",
       "      <th>x.texture_mean</th>\n",
       "      <th>x.perimeter_mean</th>\n",
       "      <th>x.area_mean</th>\n",
       "      <th>x.smoothness_mean</th>\n",
       "      <th>x.compactness_mean</th>\n",
       "      <th>x.concavity_mean</th>\n",
       "      <th>x.concave_pts_mean</th>\n",
       "      <th>x.symmetry_mean</th>\n",
       "      <th>...</th>\n",
       "      <th>x.texture_worst</th>\n",
       "      <th>x.perimeter_worst</th>\n",
       "      <th>x.area_worst</th>\n",
       "      <th>x.smoothness_worst</th>\n",
       "      <th>x.compactness_worst</th>\n",
       "      <th>x.concavity_worst</th>\n",
       "      <th>x.concave_pts_worst</th>\n",
       "      <th>x.symmetry_worst</th>\n",
       "      <th>x.fractal_dim_worst</th>\n",
       "      <th>y</th>\n",
       "    </tr>\n",
       "  </thead>\n",
       "  <tbody>\n",
       "    <tr>\n",
       "      <th>0</th>\n",
       "      <td>1</td>\n",
       "      <td>13.540</td>\n",
       "      <td>14.36</td>\n",
       "      <td>87.46</td>\n",
       "      <td>566.3</td>\n",
       "      <td>0.09779</td>\n",
       "      <td>0.08129</td>\n",
       "      <td>0.06664</td>\n",
       "      <td>0.047810</td>\n",
       "      <td>0.1885</td>\n",
       "      <td>...</td>\n",
       "      <td>19.26</td>\n",
       "      <td>99.70</td>\n",
       "      <td>711.2</td>\n",
       "      <td>0.14400</td>\n",
       "      <td>0.17730</td>\n",
       "      <td>0.23900</td>\n",
       "      <td>0.12880</td>\n",
       "      <td>0.2977</td>\n",
       "      <td>0.07259</td>\n",
       "      <td>B</td>\n",
       "    </tr>\n",
       "    <tr>\n",
       "      <th>1</th>\n",
       "      <td>2</td>\n",
       "      <td>13.080</td>\n",
       "      <td>15.71</td>\n",
       "      <td>85.63</td>\n",
       "      <td>520.0</td>\n",
       "      <td>0.10750</td>\n",
       "      <td>0.12700</td>\n",
       "      <td>0.04568</td>\n",
       "      <td>0.031100</td>\n",
       "      <td>0.1967</td>\n",
       "      <td>...</td>\n",
       "      <td>20.49</td>\n",
       "      <td>96.09</td>\n",
       "      <td>630.5</td>\n",
       "      <td>0.13120</td>\n",
       "      <td>0.27760</td>\n",
       "      <td>0.18900</td>\n",
       "      <td>0.07283</td>\n",
       "      <td>0.3184</td>\n",
       "      <td>0.08183</td>\n",
       "      <td>B</td>\n",
       "    </tr>\n",
       "    <tr>\n",
       "      <th>2</th>\n",
       "      <td>3</td>\n",
       "      <td>9.504</td>\n",
       "      <td>12.44</td>\n",
       "      <td>60.34</td>\n",
       "      <td>273.9</td>\n",
       "      <td>0.10240</td>\n",
       "      <td>0.06492</td>\n",
       "      <td>0.02956</td>\n",
       "      <td>0.020760</td>\n",
       "      <td>0.1815</td>\n",
       "      <td>...</td>\n",
       "      <td>15.66</td>\n",
       "      <td>65.13</td>\n",
       "      <td>314.9</td>\n",
       "      <td>0.13240</td>\n",
       "      <td>0.11480</td>\n",
       "      <td>0.08867</td>\n",
       "      <td>0.06227</td>\n",
       "      <td>0.2450</td>\n",
       "      <td>0.07773</td>\n",
       "      <td>B</td>\n",
       "    </tr>\n",
       "    <tr>\n",
       "      <th>3</th>\n",
       "      <td>4</td>\n",
       "      <td>13.030</td>\n",
       "      <td>18.42</td>\n",
       "      <td>82.61</td>\n",
       "      <td>523.8</td>\n",
       "      <td>0.08983</td>\n",
       "      <td>0.03766</td>\n",
       "      <td>0.02562</td>\n",
       "      <td>0.029230</td>\n",
       "      <td>0.1467</td>\n",
       "      <td>...</td>\n",
       "      <td>22.81</td>\n",
       "      <td>84.46</td>\n",
       "      <td>545.9</td>\n",
       "      <td>0.09701</td>\n",
       "      <td>0.04619</td>\n",
       "      <td>0.04833</td>\n",
       "      <td>0.05013</td>\n",
       "      <td>0.1987</td>\n",
       "      <td>0.06169</td>\n",
       "      <td>B</td>\n",
       "    </tr>\n",
       "    <tr>\n",
       "      <th>4</th>\n",
       "      <td>5</td>\n",
       "      <td>8.196</td>\n",
       "      <td>16.84</td>\n",
       "      <td>51.71</td>\n",
       "      <td>201.9</td>\n",
       "      <td>0.08600</td>\n",
       "      <td>0.05943</td>\n",
       "      <td>0.01588</td>\n",
       "      <td>0.005917</td>\n",
       "      <td>0.1769</td>\n",
       "      <td>...</td>\n",
       "      <td>21.96</td>\n",
       "      <td>57.26</td>\n",
       "      <td>242.2</td>\n",
       "      <td>0.12970</td>\n",
       "      <td>0.13570</td>\n",
       "      <td>0.06880</td>\n",
       "      <td>0.02564</td>\n",
       "      <td>0.3105</td>\n",
       "      <td>0.07409</td>\n",
       "      <td>B</td>\n",
       "    </tr>\n",
       "  </tbody>\n",
       "</table>\n",
       "<p>5 rows × 32 columns</p>\n",
       "</div>"
      ]
     },
     "metadata": {},
     "output_type": "display_data"
    },
    {
     "name": "stdout",
     "output_type": "stream",
     "text": [
      "<class 'pandas.core.frame.DataFrame'>\n",
      "RangeIndex: 569 entries, 0 to 568\n",
      "Data columns (total 32 columns):\n",
      " #   Column               Non-Null Count  Dtype  \n",
      "---  ------               --------------  -----  \n",
      " 0   Unnamed: 0           569 non-null    int64  \n",
      " 1   x.radius_mean        569 non-null    float64\n",
      " 2   x.texture_mean       569 non-null    float64\n",
      " 3   x.perimeter_mean     569 non-null    float64\n",
      " 4   x.area_mean          569 non-null    float64\n",
      " 5   x.smoothness_mean    569 non-null    float64\n",
      " 6   x.compactness_mean   569 non-null    float64\n",
      " 7   x.concavity_mean     569 non-null    float64\n",
      " 8   x.concave_pts_mean   569 non-null    float64\n",
      " 9   x.symmetry_mean      569 non-null    float64\n",
      " 10  x.fractal_dim_mean   569 non-null    float64\n",
      " 11  x.radius_se          569 non-null    float64\n",
      " 12  x.texture_se         569 non-null    float64\n",
      " 13  x.perimeter_se       569 non-null    float64\n",
      " 14  x.area_se            569 non-null    float64\n",
      " 15  x.smoothness_se      569 non-null    float64\n",
      " 16  x.compactness_se     569 non-null    float64\n",
      " 17  x.concavity_se       569 non-null    float64\n",
      " 18  x.concave_pts_se     569 non-null    float64\n",
      " 19  x.symmetry_se        569 non-null    float64\n",
      " 20  x.fractal_dim_se     569 non-null    float64\n",
      " 21  x.radius_worst       569 non-null    float64\n",
      " 22  x.texture_worst      569 non-null    float64\n",
      " 23  x.perimeter_worst    569 non-null    float64\n",
      " 24  x.area_worst         569 non-null    float64\n",
      " 25  x.smoothness_worst   569 non-null    float64\n",
      " 26  x.compactness_worst  569 non-null    float64\n",
      " 27  x.concavity_worst    569 non-null    float64\n",
      " 28  x.concave_pts_worst  569 non-null    float64\n",
      " 29  x.symmetry_worst     569 non-null    float64\n",
      " 30  x.fractal_dim_worst  569 non-null    float64\n",
      " 31  y                    569 non-null    object \n",
      "dtypes: float64(30), int64(1), object(1)\n",
      "memory usage: 142.4+ KB\n",
      "None\n"
     ]
    }
   ],
   "source": [
    "# Performing visual assesment\n",
    "display_html(df.head())\n",
    "\n",
    "# Check the general information\n",
    "print(df.info())"
   ]
  },
  {
   "cell_type": "code",
   "execution_count": 106,
   "metadata": {},
   "outputs": [
    {
     "name": "stdout",
     "output_type": "stream",
     "text": [
      "       Unnamed: 0  x.radius_mean  x.texture_mean  x.perimeter_mean   \n",
      "count  569.000000     569.000000      569.000000        569.000000  \\\n",
      "mean   285.000000      14.127292       19.289649         91.969033   \n",
      "std    164.400426       3.524049        4.301036         24.298981   \n",
      "min      1.000000       6.981000        9.710000         43.790000   \n",
      "25%    143.000000      11.700000       16.170000         75.170000   \n",
      "50%    285.000000      13.370000       18.840000         86.240000   \n",
      "75%    427.000000      15.780000       21.800000        104.100000   \n",
      "max    569.000000      28.110000       39.280000        188.500000   \n",
      "\n",
      "       x.area_mean  x.smoothness_mean  x.compactness_mean  x.concavity_mean   \n",
      "count   569.000000         569.000000          569.000000        569.000000  \\\n",
      "mean    654.889104           0.096360            0.104341          0.088799   \n",
      "std     351.914129           0.014064            0.052813          0.079720   \n",
      "min     143.500000           0.052630            0.019380          0.000000   \n",
      "25%     420.300000           0.086370            0.064920          0.029560   \n",
      "50%     551.100000           0.095870            0.092630          0.061540   \n",
      "75%     782.700000           0.105300            0.130400          0.130700   \n",
      "max    2501.000000           0.163400            0.345400          0.426800   \n",
      "\n",
      "       x.concave_pts_mean  x.symmetry_mean  ...  x.radius_worst   \n",
      "count          569.000000       569.000000  ...      569.000000  \\\n",
      "mean             0.048919         0.181162  ...       16.269190   \n",
      "std              0.038803         0.027414  ...        4.833242   \n",
      "min              0.000000         0.106000  ...        7.930000   \n",
      "25%              0.020310         0.161900  ...       13.010000   \n",
      "50%              0.033500         0.179200  ...       14.970000   \n",
      "75%              0.074000         0.195700  ...       18.790000   \n",
      "max              0.201200         0.304000  ...       36.040000   \n",
      "\n",
      "       x.texture_worst  x.perimeter_worst  x.area_worst  x.smoothness_worst   \n",
      "count       569.000000         569.000000    569.000000          569.000000  \\\n",
      "mean         25.677223         107.261213    880.583128            0.132369   \n",
      "std           6.146258          33.602542    569.356993            0.022832   \n",
      "min          12.020000          50.410000    185.200000            0.071170   \n",
      "25%          21.080000          84.110000    515.300000            0.116600   \n",
      "50%          25.410000          97.660000    686.500000            0.131300   \n",
      "75%          29.720000         125.400000   1084.000000            0.146000   \n",
      "max          49.540000         251.200000   4254.000000            0.222600   \n",
      "\n",
      "       x.compactness_worst  x.concavity_worst  x.concave_pts_worst   \n",
      "count           569.000000         569.000000           569.000000  \\\n",
      "mean              0.254265           0.272188             0.114606   \n",
      "std               0.157336           0.208624             0.065732   \n",
      "min               0.027290           0.000000             0.000000   \n",
      "25%               0.147200           0.114500             0.064930   \n",
      "50%               0.211900           0.226700             0.099930   \n",
      "75%               0.339100           0.382900             0.161400   \n",
      "max               1.058000           1.252000             0.291000   \n",
      "\n",
      "       x.symmetry_worst  x.fractal_dim_worst  \n",
      "count        569.000000           569.000000  \n",
      "mean           0.290076             0.083946  \n",
      "std            0.061867             0.018061  \n",
      "min            0.156500             0.055040  \n",
      "25%            0.250400             0.071460  \n",
      "50%            0.282200             0.080040  \n",
      "75%            0.317900             0.092080  \n",
      "max            0.663800             0.207500  \n",
      "\n",
      "[8 rows x 31 columns]\n"
     ]
    }
   ],
   "source": [
    "# Get accurate info on the dataset\n",
    "print(df.describe())"
   ]
  },
  {
   "cell_type": "code",
   "execution_count": 107,
   "metadata": {},
   "outputs": [
    {
     "name": "stdout",
     "output_type": "stream",
     "text": [
      "Null -> \n",
      " Unnamed: 0             0\n",
      "x.radius_mean          0\n",
      "x.texture_mean         0\n",
      "x.perimeter_mean       0\n",
      "x.area_mean            0\n",
      "x.smoothness_mean      0\n",
      "x.compactness_mean     0\n",
      "x.concavity_mean       0\n",
      "x.concave_pts_mean     0\n",
      "x.symmetry_mean        0\n",
      "x.fractal_dim_mean     0\n",
      "x.radius_se            0\n",
      "x.texture_se           0\n",
      "x.perimeter_se         0\n",
      "x.area_se              0\n",
      "x.smoothness_se        0\n",
      "x.compactness_se       0\n",
      "x.concavity_se         0\n",
      "x.concave_pts_se       0\n",
      "x.symmetry_se          0\n",
      "x.fractal_dim_se       0\n",
      "x.radius_worst         0\n",
      "x.texture_worst        0\n",
      "x.perimeter_worst      0\n",
      "x.area_worst           0\n",
      "x.smoothness_worst     0\n",
      "x.compactness_worst    0\n",
      "x.concavity_worst      0\n",
      "x.concave_pts_worst    0\n",
      "x.symmetry_worst       0\n",
      "x.fractal_dim_worst    0\n",
      "y                      0\n",
      "dtype: int64\n",
      "\n",
      " Duplicates -> \n",
      " 0\n"
     ]
    }
   ],
   "source": [
    "# Check for null values\n",
    "print(\"Null -> \\n\",df.isna().sum())\n",
    "\n",
    "# Check for Duplicated values\n",
    "print(\"\\n Duplicates -> \\n\",df.duplicated().sum())"
   ]
  },
  {
   "cell_type": "code",
   "execution_count": 108,
   "metadata": {},
   "outputs": [
    {
     "data": {
      "text/plain": [
       "y\n",
       "B    357\n",
       "M    212\n",
       "Name: count, dtype: int64"
      ]
     },
     "execution_count": 108,
     "metadata": {},
     "output_type": "execute_result"
    }
   ],
   "source": [
    "df['y'].value_counts()"
   ]
  },
  {
   "attachments": {},
   "cell_type": "markdown",
   "metadata": {},
   "source": [
    "## Cleaning Dataset\n",
    "\n",
    "##### After assessment, we will move on to the dataset cleaning step. This will involve handling missing values, detecting and managing outliers, and addressing any data quality issues identified during the assessment. A clean and consistent dataset is crucial for obtaining accurate and reliable results."

   ]
  },
  {
   "cell_type": "code",
   "execution_count": 109,
   "metadata": {},
   "outputs": [
    {
     "name": "stdout",
     "output_type": "stream",
     "text": [
      "<class 'pandas.core.frame.DataFrame'>\n",
      "RangeIndex: 569 entries, 0 to 568\n",
      "Data columns (total 31 columns):\n",
      " #   Column               Non-Null Count  Dtype  \n",
      "---  ------               --------------  -----  \n",
      " 0   x.radius_mean        569 non-null    float64\n",
      " 1   x.texture_mean       569 non-null    float64\n",
      " 2   x.perimeter_mean     569 non-null    float64\n",
      " 3   x.area_mean          569 non-null    float64\n",
      " 4   x.smoothness_mean    569 non-null    float64\n",
      " 5   x.compactness_mean   569 non-null    float64\n",
      " 6   x.concavity_mean     569 non-null    float64\n",
      " 7   x.concave_pts_mean   569 non-null    float64\n",
      " 8   x.symmetry_mean      569 non-null    float64\n",
      " 9   x.fractal_dim_mean   569 non-null    float64\n",
      " 10  x.radius_se          569 non-null    float64\n",
      " 11  x.texture_se         569 non-null    float64\n",
      " 12  x.perimeter_se       569 non-null    float64\n",
      " 13  x.area_se            569 non-null    float64\n",
      " 14  x.smoothness_se      569 non-null    float64\n",
      " 15  x.compactness_se     569 non-null    float64\n",
      " 16  x.concavity_se       569 non-null    float64\n",
      " 17  x.concave_pts_se     569 non-null    float64\n",
      " 18  x.symmetry_se        569 non-null    float64\n",
      " 19  x.fractal_dim_se     569 non-null    float64\n",
      " 20  x.radius_worst       569 non-null    float64\n",
      " 21  x.texture_worst      569 non-null    float64\n",
      " 22  x.perimeter_worst    569 non-null    float64\n",
      " 23  x.area_worst         569 non-null    float64\n",
      " 24  x.smoothness_worst   569 non-null    float64\n",
      " 25  x.compactness_worst  569 non-null    float64\n",
      " 26  x.concavity_worst    569 non-null    float64\n",
      " 27  x.concave_pts_worst  569 non-null    float64\n",
      " 28  x.symmetry_worst     569 non-null    float64\n",
      " 29  x.fractal_dim_worst  569 non-null    float64\n",
      " 30  y                    569 non-null    object \n",
      "dtypes: float64(30), object(1)\n",
      "memory usage: 137.9+ KB\n"
     ]
    }
   ],
   "source": [
    "df_copy = df.copy()\n",
    "df_copy.drop(df_copy.columns[0], axis=1, inplace=True)\n",
    "df_copy.info()"
   ]
  },
  {
   "cell_type": "code",
   "execution_count": 110,
   "metadata": {},
   "outputs": [],
   "source": [
    "from sklearn.model_selection import train_test_split\n",
    "from sklearn.ensemble import RandomForestClassifier\n",
    "from sklearn.naive_bayes import GaussianNB"
   ]
  },
  {
   "attachments": {},
   "cell_type": "markdown",
   "metadata": {},
   "source": [
    "## Testing and Training Splits\n",
    "\n",
    "##### After validating the dataset, we will divide it into training and testing sets. The training set will be used to train our classification models, while the test set will be used to evaluate their performance on unseen data. This division allows us to measure the generalization ability of our models."
   ]
  },
  {
   "cell_type": "code",
   "execution_count": 111,
   "metadata": {},
   "outputs": [],
   "source": [
    "# Slice the dataframe into x(data) and y(target)\n",
    "X, y = df_copy.loc[:,df_copy.columns != 'y'], df_copy['y']"
   ]
  },
  {
   "cell_type": "code",
   "execution_count": 112,
   "metadata": {},
   "outputs": [],
   "source": [
    "X_train, X_test, y_train, y_test = train_test_split(X,y, random_state=42)"
   ]
  },
  {
   "cell_type": "code",
   "execution_count": 113,
   "metadata": {},
   "outputs": [
    {
     "data": {
      "image/png": "[encoded data removed]",
      "text/plain": [
       "<Figure size 640x480 with 2 Axes>"
      ]
     },
     "metadata": {},
     "output_type": "display_data"
    }
   ],
   "source": [
    "# Correlation matrix\n",
    "heatmap = sns.heatmap(X.corr())\n",
    "heatmap.set_title('Correlation Heatmap', fontdict={'fontsize':12}, pad=12);"
   ]
  },
  {
   "attachments": {},
   "cell_type": "markdown",
   "metadata": {},
   "source": [
    "## Random forest classification\n",
    "\n",
    "##### We will utilize the random forest classification algorithm to build our first model. Random forest is an ensemble learning method that combines multiple decision trees to make classification decisions. We will explore different configurations and parameters to optimize the model's performance."
   ]
  },
  {
   "cell_type": "code",
   "execution_count": 114,
   "metadata": {},
   "outputs": [
    {
     "name": "stdout",
     "output_type": "stream",
     "text": [
      "Accuracy on training set: 100.00%\n",
      "Accuracy on test set: 95.80%\n"
     ]
    }
   ],
   "source": [
    "clf = RandomForestClassifier(n_estimators=100, random_state=42)\n",
    "clf.fit(X_train, y_train)\n",
    "print(\"Accuracy on training set: {:.2%}\".format(clf.score(X_train, y_train)))\n",
    "print(\"Accuracy on test set: {:.2%}\".format(clf.score(X_test, y_test)))"
   ]
  },
  {
   "attachments": {},
   "cell_type": "markdown",
   "metadata": {},
   "source": [
    "## Gaussian Naive Bayes\n",
    "\n",
    "##### Next, we will use the Gaussian naive Bayes algorithm to construct a second classification model. This model applies Bayes' theorem, assuming that the input variables are independent and follow a Gaussian distribution. We will evaluate the performance of this model compared to the random forest.test"

   ]
  },
  {
   "cell_type": "code",
   "execution_count": 115,
   "metadata": {},
   "outputs": [
    {
     "name": "stdout",
     "output_type": "stream",
     "text": [
      "Accuracy on training set: 94.84%\n",
      "Accuracy on test set: 91.61%\n"
     ]
    }
   ],
   "source": [
    "nb = GaussianNB().fit(X_train, y_train)\n",
    "pred = nb.predict(X_test)\n",
    "print(\"Accuracy on training set: {:.2%}\".format(nb.score(X_train, y_train)))\n",
    "print(\"Accuracy on test set: {:.2%}\".format(nb.score(X_test, y_test)))"
   ]
  },
  {
   "attachments": {},
   "cell_type": "markdown",
   "metadata": {},
   "source": [
    "## Model Comparison"
   ]
  },
  {
   "attachments": {},
   "cell_type": "markdown",
   "metadata": {},
   "source": []
  }
 ],
 "metadata": {
  "kernelspec": {
   "display_name": "machine_learning",
   "language": "python",
   "name": "python3"
  },
  "language_info": {
   "codemirror_mode": {
    "name": "ipython",
    "version": 3
   },
   "file_extension": ".py",
   "mimetype": "text/x-python",
   "name": "python",
   "nbconvert_exporter": "python",
   "pygments_lexer": "ipython3",
   "version": "3.10.8"
  },
  "orig_nbformat": 4
 },
 "nbformat": 4,
 "nbformat_minor": 2
}
